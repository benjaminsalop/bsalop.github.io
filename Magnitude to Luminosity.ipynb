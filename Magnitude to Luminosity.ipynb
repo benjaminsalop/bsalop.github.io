{
 "cells": [
  {
   "cell_type": "code",
   "execution_count": 3,
   "id": "31023ad8",
   "metadata": {},
   "outputs": [],
   "source": [
    "import numpy as np\n",
    "import math as math\n",
    "import astropy.constants as c\n",
    "import astropy.units as u"
   ]
  },
  {
   "cell_type": "code",
   "execution_count": 11,
   "id": "293cbd98",
   "metadata": {},
   "outputs": [],
   "source": [
    "def luminosity (M):\n",
    "    Msun = 4.83\n",
    "    Lsun = c.L_sun\n",
    "    L = (10**((M - Msun)/(-2.5)) * Lsun)\n",
    "    return L"
   ]
  },
  {
   "cell_type": "code",
   "execution_count": 17,
   "id": "08c74489",
   "metadata": {},
   "outputs": [
    {
     "data": {
      "text/latex": [
       "$3.2731954 \\times 10^{24} \\; \\mathrm{W}$"
      ],
      "text/plain": [
       "<Quantity 3.27319538e+24 W>"
      ]
     },
     "execution_count": 17,
     "metadata": {},
     "output_type": "execute_result"
    }
   ],
   "source": [
    "luminosity (10)"
   ]
  },
  {
   "cell_type": "code",
   "execution_count": null,
   "id": "08d407de",
   "metadata": {},
   "outputs": [],
   "source": []
  }
 ],
 "metadata": {
  "kernelspec": {
   "display_name": "Python 3 (ipykernel)",
   "language": "python",
   "name": "python3"
  },
  "language_info": {
   "codemirror_mode": {
    "name": "ipython",
    "version": 3
   },
   "file_extension": ".py",
   "mimetype": "text/x-python",
   "name": "python",
   "nbconvert_exporter": "python",
   "pygments_lexer": "ipython3",
   "version": "3.9.13"
  }
 },
 "nbformat": 4,
 "nbformat_minor": 5
}
