{
 "cells": [
  {
   "cell_type": "markdown",
   "metadata": {
    "id": "jhi4HeXC0V_A"
   },
   "source": [
    "# Import"
   ]
  },
  {
   "cell_type": "code",
   "execution_count": 8,
   "metadata": {
    "id": "YnXDJ4sqA5RS"
   },
   "outputs": [
    {
     "name": "stdout",
     "output_type": "stream",
     "text": [
      "Requirement already satisfied: celluloid in /opt/anaconda3/lib/python3.9/site-packages (0.2.0)\n",
      "Requirement already satisfied: matplotlib in /opt/anaconda3/lib/python3.9/site-packages (from celluloid) (3.5.2)\n",
      "Requirement already satisfied: cycler>=0.10 in /opt/anaconda3/lib/python3.9/site-packages (from matplotlib->celluloid) (0.11.0)\n",
      "Requirement already satisfied: fonttools>=4.22.0 in /opt/anaconda3/lib/python3.9/site-packages (from matplotlib->celluloid) (4.25.0)\n",
      "Requirement already satisfied: numpy>=1.17 in /opt/anaconda3/lib/python3.9/site-packages (from matplotlib->celluloid) (1.21.5)\n",
      "Requirement already satisfied: packaging>=20.0 in /opt/anaconda3/lib/python3.9/site-packages (from matplotlib->celluloid) (21.3)\n",
      "Requirement already satisfied: python-dateutil>=2.7 in /opt/anaconda3/lib/python3.9/site-packages (from matplotlib->celluloid) (2.8.2)\n",
      "Requirement already satisfied: pyparsing>=2.2.1 in /opt/anaconda3/lib/python3.9/site-packages (from matplotlib->celluloid) (3.0.9)\n",
      "Requirement already satisfied: pillow>=6.2.0 in /opt/anaconda3/lib/python3.9/site-packages (from matplotlib->celluloid) (9.2.0)\n",
      "Requirement already satisfied: kiwisolver>=1.0.1 in /opt/anaconda3/lib/python3.9/site-packages (from matplotlib->celluloid) (1.4.2)\n",
      "Requirement already satisfied: six>=1.5 in /opt/anaconda3/lib/python3.9/site-packages (from python-dateutil>=2.7->matplotlib->celluloid) (1.16.0)\n"
     ]
    }
   ],
   "source": [
    "import numpy as np\n",
    "import matplotlib.pyplot as plt\n",
    "import astropy.constants as constant\n",
    "import astropy.units as unit\n",
    "from scipy.stats import expon\n",
    "import sys\n",
    "!{sys.executable} -m pip install celluloid\n",
    "from celluloid import Camera\n",
    "from tqdm import tqdm"
   ]
  },
  {
   "cell_type": "markdown",
   "metadata": {
    "id": "wwG4lbox0agV"
   },
   "source": [
    "# Constants"
   ]
  },
  {
   "cell_type": "code",
   "execution_count": 9,
   "metadata": {
    "id": "LhKFEXtXz-Nb"
   },
   "outputs": [],
   "source": [
    "# Universal gravitational constant\n",
    "G = constant.G\n",
    "M_sun = constant.M_sun"
   ]
  },
  {
   "cell_type": "markdown",
   "metadata": {
    "id": "tpQH44so0dwq"
   },
   "source": [
    "# Helper Functions"
   ]
  },
  {
   "cell_type": "code",
   "execution_count": 10,
   "metadata": {
    "id": "o3kIzB5D0D0j"
   },
   "outputs": [],
   "source": [
    "def convert_polar_to_cart(θ, r):\n",
    "    \"\"\"\n",
    "    Helper Function for converting from \n",
    "    polar to cartesian coordinates.\n",
    "    \"\"\"\n",
    "    x = r * np.cos(θ)\n",
    "    y = r * np.sin(θ)\n",
    "    return np.array([x, y])\n",
    "\n",
    "def gaussian(x, mu, sig):\n",
    "    \"\"\"\n",
    "    Helper function to create a Gaussian curve.\n",
    "    \"\"\"\n",
    "    return np.exp(-np.power(x - mu, 2.) / (2 * np.power(sig, 2.)))"
   ]
  },
  {
   "cell_type": "markdown",
   "metadata": {
    "id": "CSFq6J-c0oH9"
   },
   "source": [
    "# Object Class"
   ]
  },
  {
   "cell_type": "code",
   "execution_count": 11,
   "metadata": {
    "id": "1zwFHaRM0G-W"
   },
   "outputs": [],
   "source": [
    "class Star:\n",
    "    \"\"\"\n",
    "    Object class to make Star objects.\n",
    "    \"\"\"\n",
    "    def __init__(self, position, velocity, mass, luminosity):\n",
    "        \"\"\"\n",
    "        Constructor method for Star objects.\n",
    "        \n",
    "        position: [1d array of len 2] - np.array([float, float])\n",
    "        velocity: [1d array of len 2] - np.array([float, float])\n",
    "        mass: [float] \n",
    "        force: [1d array of len 2] - np.array([float, float]) (initially zero)\n",
    "        \n",
    "        \"\"\"\n",
    "        self.position = position\n",
    "        self.velocity = velocity \n",
    "        self.mass = mass\n",
    "        self.luminosity = 1\n",
    "        self.force = 0\n",
    "        \n",
    "    def calc_grav_force(self, other_star):\n",
    "        \"\"\"\n",
    "        Method to compute gravity between two Star objects. \n",
    "        \"\"\"\n",
    "        G = 6.67e-11\n",
    "        \n",
    "        #calculate Force Magnitude\n",
    "        dr_vec = other_star.position - self.position\n",
    "        dr = np.linalg.norm(dr_vec)\n",
    "        F = G * (self.mass * other_star.mass) / (dr)**2  \n",
    "        \n",
    "        #condition to \"handle\" collision instabilities  \n",
    "        if dr < 5e-2: \n",
    "            F = 0\n",
    "            \n",
    "        #calculate Force Vector    \n",
    "        F_hat = dr_vec / dr\n",
    "        self.force += F * F_hat\n",
    "        \n",
    "    def calc_acceleration(self):\n",
    "        \"\"\"\n",
    "        Method for computing the acceleration of a Star object.\n",
    "        \"\"\"\n",
    "        #using Newton's 2nd Law\n",
    "        self.acceleration = self.force / self.mass"
   ]
  },
  {
   "cell_type": "markdown",
   "metadata": {
    "id": "eTQlErzf0zde"
   },
   "source": [
    "# Building Galaxy"
   ]
  },
  {
   "cell_type": "code",
   "execution_count": 12,
   "metadata": {
    "id": "wUfwM1Lj0IZS"
   },
   "outputs": [],
   "source": [
    "x_hat = np.array([1., 0.])\n",
    "y_hat = np.array([0., 1.])\n",
    "\n",
    "def initialize_galaxy(R_inner, R_outer):\n",
    "\n",
    "    mass_star = 1e6\n",
    "    \n",
    "    # initialize polar coordinates of stars\n",
    "    \"\"\"Replace exponential distribution with physical distribution\"\"\"\n",
    "    rs_g = expon.rvs(scale=1.2,loc=R_inner,size=N_stars)\n",
    "    θs_g = np.random.rand(N_stars) * 360\n",
    "    polar_coords = np.array([θs_g, rs_g])\n",
    "    \n",
    "    # list of star objects\n",
    "    stars = []\n",
    "    for i in range(N_stars):\n",
    "        θ, r = polar_coords[:, i]\n",
    "        cart_pos = convert_polar_to_cart(θ, r)\n",
    "        cart_v_0 = np.zeros(2) #initial velocity of 0\n",
    "        stars.append(Star(cart_pos, cart_v_0, mass_star))\n",
    "    \n",
    "    # central black hole, used Sgr A*: 4.1e6 times the mass of Sol\n",
    "    BH = Star(np.zeros(2), cart_v_0, 1e3 * mass_star)\n",
    "    return stars, BH\n",
    "\n",
    "def update_physics_gravity(stars, BH):\n",
    "    \n",
    "    \"\"\"Calculate force of gravity on Nth star from central\n",
    "    black hole and from other stars.\n",
    "    \"\"\"\n",
    "    # gravity on Nth object\n",
    "    for i in range(N_stars):\n",
    "        stars[i].calc_grav_force(BH)\n",
    "        for j in range(N_stars):\n",
    "            if i != j:\n",
    "                stars[i].calc_grav_force(stars[j])\n",
    "    \n",
    "    # update velocity, acceleration, position\n",
    "    for i in range(N_stars):\n",
    "        stars[i].calc_acceleration()\n",
    "        dv = stars[i].acceleration * dt\n",
    "        stars[i].velocity = stars[i].velocity + dv\n",
    "        dpos = stars[i].velocity * dt\n",
    "        stars[i].position = stars[i].position + dpos\n",
    "\n",
    "# def update_physics_rotation_curve(stars):\n",
    "#     \"\"\"\n",
    "#     Rotational curve that follows the classical Keplerian behavior\n",
    "#     \"\"\"\n",
    "#     v_0 = 1\n",
    "#     for i in range(N_stars):\n",
    "#         x, y = stars[i].position\n",
    "#         r = np.sqrt(x**2 + y**2)\n",
    "#         θ_hat = (-y*x_hat + x*y_hat) / r\n",
    "#         v_θ = v_0 / np.sqrt(r)\n",
    "#         v = θ_hat * v_θ\n",
    "#         stars[i].velocity = v\n",
    "#         dpos = stars[i].velocity * dt\n",
    "#         stars[i].position = stars[i].position + dpos\n",
    "\n",
    "def update_physics_rotation_curve(stars):\n",
    "    \"\"\"\n",
    "    Dark matter rotation curve, ie roughly constant rotation curve\n",
    "    \"\"\"\n",
    "    v_0 = 1\n",
    "    for i in range(N_stars):\n",
    "        x, y = stars[i].position\n",
    "        r = np.sqrt(x**2 + y**2)\n",
    "        θ_hat = (-y*x_hat + x*y_hat) / r\n",
    "        v_θ = v_0 / (10*gaussian(r, 0, 0.4) + 1)\n",
    "        v = θ_hat * v_θ\n",
    "        stars[i].velocity = v\n",
    "        dpos = stars[i].velocity * dt\n",
    "        stars[i].position = stars[i].position + dpos"
   ]
  },
  {
   "cell_type": "markdown",
   "metadata": {
    "id": "SouveGw303du"
   },
   "source": [
    "# Animation"
   ]
  },
  {
   "cell_type": "code",
   "execution_count": 13,
   "metadata": {
    "id": "BvBSb6Hh0MSu"
   },
   "outputs": [
    {
     "ename": "TypeError",
     "evalue": "__init__() missing 1 required positional argument: 'luminosity'",
     "output_type": "error",
     "traceback": [
      "\u001b[0;31m---------------------------------------------------------------------------\u001b[0m",
      "\u001b[0;31mTypeError\u001b[0m                                 Traceback (most recent call last)",
      "\u001b[0;32m/var/folders/tb/q2_5lvc13bg_m1ylqqwhchtm0000gn/T/ipykernel_23113/1473263113.py\u001b[0m in \u001b[0;36m<module>\u001b[0;34m\u001b[0m\n\u001b[1;32m     70\u001b[0m \u001b[0mR_inner\u001b[0m\u001b[0;34m,\u001b[0m \u001b[0mR_outer\u001b[0m \u001b[0;34m=\u001b[0m \u001b[0;36m0.6\u001b[0m\u001b[0;34m,\u001b[0m \u001b[0;36m5\u001b[0m \u001b[0;31m#inner and outer bounds for stars to be formed in\u001b[0m\u001b[0;34m\u001b[0m\u001b[0;34m\u001b[0m\u001b[0m\n\u001b[1;32m     71\u001b[0m \u001b[0;34m\u001b[0m\u001b[0m\n\u001b[0;32m---> 72\u001b[0;31m \u001b[0;32mif\u001b[0m \u001b[0m__name__\u001b[0m \u001b[0;34m==\u001b[0m \u001b[0;34m\"__main__\"\u001b[0m\u001b[0;34m:\u001b[0m \u001b[0mmain\u001b[0m\u001b[0;34m(\u001b[0m\u001b[0;34m)\u001b[0m\u001b[0;34m\u001b[0m\u001b[0;34m\u001b[0m\u001b[0m\n\u001b[0m",
      "\u001b[0;32m/var/folders/tb/q2_5lvc13bg_m1ylqqwhchtm0000gn/T/ipykernel_23113/1473263113.py\u001b[0m in \u001b[0;36mmain\u001b[0;34m()\u001b[0m\n\u001b[1;32m     29\u001b[0m \u001b[0;34m\u001b[0m\u001b[0m\n\u001b[1;32m     30\u001b[0m     \u001b[0;31m#setup the galaxy\u001b[0m\u001b[0;34m\u001b[0m\u001b[0;34m\u001b[0m\u001b[0m\n\u001b[0;32m---> 31\u001b[0;31m     \u001b[0mgalaxy\u001b[0m\u001b[0;34m,\u001b[0m \u001b[0mBH\u001b[0m \u001b[0;34m=\u001b[0m \u001b[0minitialize_galaxy\u001b[0m\u001b[0;34m(\u001b[0m\u001b[0mR_inner\u001b[0m\u001b[0;34m,\u001b[0m \u001b[0mR_outer\u001b[0m\u001b[0;34m)\u001b[0m\u001b[0;34m\u001b[0m\u001b[0;34m\u001b[0m\u001b[0m\n\u001b[0m\u001b[1;32m     32\u001b[0m \u001b[0;34m\u001b[0m\u001b[0m\n\u001b[1;32m     33\u001b[0m     \u001b[0;31m#create the figure\u001b[0m\u001b[0;34m\u001b[0m\u001b[0;34m\u001b[0m\u001b[0m\n",
      "\u001b[0;32m/var/folders/tb/q2_5lvc13bg_m1ylqqwhchtm0000gn/T/ipykernel_23113/1783675892.py\u001b[0m in \u001b[0;36minitialize_galaxy\u001b[0;34m(R_inner, R_outer)\u001b[0m\n\u001b[1;32m     18\u001b[0m         \u001b[0mcart_pos\u001b[0m \u001b[0;34m=\u001b[0m \u001b[0mconvert_polar_to_cart\u001b[0m\u001b[0;34m(\u001b[0m\u001b[0mθ\u001b[0m\u001b[0;34m,\u001b[0m \u001b[0mr\u001b[0m\u001b[0;34m)\u001b[0m\u001b[0;34m\u001b[0m\u001b[0;34m\u001b[0m\u001b[0m\n\u001b[1;32m     19\u001b[0m         \u001b[0mcart_v_0\u001b[0m \u001b[0;34m=\u001b[0m \u001b[0mnp\u001b[0m\u001b[0;34m.\u001b[0m\u001b[0mzeros\u001b[0m\u001b[0;34m(\u001b[0m\u001b[0;36m2\u001b[0m\u001b[0;34m)\u001b[0m \u001b[0;31m#initial velocity of 0\u001b[0m\u001b[0;34m\u001b[0m\u001b[0;34m\u001b[0m\u001b[0m\n\u001b[0;32m---> 20\u001b[0;31m         \u001b[0mstars\u001b[0m\u001b[0;34m.\u001b[0m\u001b[0mappend\u001b[0m\u001b[0;34m(\u001b[0m\u001b[0mStar\u001b[0m\u001b[0;34m(\u001b[0m\u001b[0mcart_pos\u001b[0m\u001b[0;34m,\u001b[0m \u001b[0mcart_v_0\u001b[0m\u001b[0;34m,\u001b[0m \u001b[0mmass_star\u001b[0m\u001b[0;34m)\u001b[0m\u001b[0;34m)\u001b[0m\u001b[0;34m\u001b[0m\u001b[0;34m\u001b[0m\u001b[0m\n\u001b[0m\u001b[1;32m     21\u001b[0m \u001b[0;34m\u001b[0m\u001b[0m\n\u001b[1;32m     22\u001b[0m     \u001b[0;31m# central black hole, used Sgr A*: 4.1e6 times the mass of Sol\u001b[0m\u001b[0;34m\u001b[0m\u001b[0;34m\u001b[0m\u001b[0m\n",
      "\u001b[0;31mTypeError\u001b[0m: __init__() missing 1 required positional argument: 'luminosity'"
     ]
    }
   ],
   "source": [
    "def draw(axes, stars, BH, camera):\n",
    "    \"\"\"\n",
    "    Function for plotting/drawing the motion of the particles with each frame.\n",
    "    This function takes in an axes object and modifies it.\n",
    "    \"\"\"\n",
    "    #collect all x,y coordinates from all the stars\n",
    "    xs, ys, rs, vs = [], [], [], []\n",
    "    for i in range(N_stars):\n",
    "        x, y = stars[i].position\n",
    "        r = np.sqrt(x**2 + y**2)\n",
    "        θ_hat = (-y*x_hat + x*y_hat)/ r\n",
    "        v_θ = np.abs(np.dot(θ_hat, stars[i].velocity))\n",
    "        xs.append(x); ys.append(y)\n",
    "        rs.append(r); vs.append(v_θ)\n",
    "        \n",
    "    xs, ys, rs, vs = np.array(xs), np.array(ys), np.array(rs), np.array(vs)\n",
    "        \n",
    "    #plot the positions of the stars and the Black Hole\n",
    "    axes[0].scatter(BH.position[0],BH.position[1], s=300, facecolor=\"black\", edgecolor=\"black\")\n",
    "    axes[0].scatter(xs, ys, color=\"black\", marker=\".\")\n",
    "    \n",
    "    axes[1].scatter(rs, vs, color=\"black\", marker=\".\")\n",
    "    camera.snap()\n",
    "    \n",
    "def main():\n",
    "    \"\"\"\n",
    "    Main loop hosted within this function. This runs the entire simulation.\n",
    "    \"\"\"\n",
    "\n",
    "    #setup the galaxy\n",
    "    galaxy, BH = initialize_galaxy(R_inner, R_outer)\n",
    "\n",
    "    #create the figure\n",
    "    fig, axes = plt.subplots(1, 2, figsize=(12,5))\n",
    "\n",
    "    #left panel (positions)\n",
    "    axes[0].set_xlim(-R_outer, R_outer); axes[0].set_ylim(-R_outer, R_outer)\n",
    "    axes[0].set_xticks([]); axes[0].set_yticks([])\n",
    "    axes[0].set_xticklabels([]); axes[0].set_yticklabels([])\n",
    "    axes[0].set_aspect('equal')\n",
    "    axes[0].set_title(\"Galaxy Simulation\", pad = 10)\n",
    "    axes[0].set_xlabel(\"$x$-axis [Code Units]\")\n",
    "    axes[0].set_ylabel(\"$y$-axis [Code Units]\")\n",
    "\n",
    "    #left panel (positions)\n",
    "    axes[1].set_xlim(R_inner, R_outer)\n",
    "    axes[1].set_title(\"Rotation Curve\", pad = 10)\n",
    "    axes[1].set_xlabel(\"Radius [Code Units]\")\n",
    "    axes[1].set_ylabel(\"Rotational Velocity\")\n",
    "    axes[1].set_yticks([0.0, 0.5, 1.0, 1.5])\n",
    "    axes[1].set_ylim(0, 1.5)\n",
    "    plt.tight_layout()\n",
    "    camera = Camera(fig)\n",
    "\n",
    "    #Main Loop for Simulation!\n",
    "    for frame in tqdm(range(N_frames)):\n",
    "        draw(axes, galaxy, BH, camera)\n",
    "        update_physics_rotation_curve(galaxy)\n",
    "        update_physics_gravity(galaxy, BH)\n",
    "\n",
    "    animation = camera.animate(blit=True)\n",
    "\n",
    "    #save animation\n",
    "    animation.save('galaxy2.gif', writer = 'imagemagick')\n",
    "    \n",
    "#Simulation Parameters\n",
    "N_frames = 40 #number of frames for animation\n",
    "N_stars = 200 #number of stars to use in our N-body sim\n",
    "dt = 0.1 #time step size\n",
    "R_inner, R_outer = 0.6, 5 #inner and outer bounds for stars to be formed in\n",
    "    \n",
    "if __name__ == \"__main__\": main()  "
   ]
  },
  {
   "cell_type": "code",
   "execution_count": null,
   "metadata": {},
   "outputs": [],
   "source": []
  },
  {
   "cell_type": "code",
   "execution_count": null,
   "metadata": {},
   "outputs": [],
   "source": []
  }
 ],
 "metadata": {
  "colab": {
   "provenance": []
  },
  "kernelspec": {
   "display_name": "Python 3 (ipykernel)",
   "language": "python",
   "name": "python3"
  },
  "language_info": {
   "codemirror_mode": {
    "name": "ipython",
    "version": 3
   },
   "file_extension": ".py",
   "mimetype": "text/x-python",
   "name": "python",
   "nbconvert_exporter": "python",
   "pygments_lexer": "ipython3",
   "version": "3.9.13"
  }
 },
 "nbformat": 4,
 "nbformat_minor": 1
}
